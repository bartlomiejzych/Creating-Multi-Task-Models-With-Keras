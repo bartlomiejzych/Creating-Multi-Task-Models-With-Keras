{
 "cells": [
  {
   "cell_type": "markdown",
   "metadata": {
    "id": "jKIdV8hoVX5F"
   },
   "source": [
    "## Task 1: Introduction\n",
    "\n",
    "Starter notebook for the Coursera Guided Project [Creating Multi Task Models With Keras](https://www.coursera.org/projects/multi-task-models-keras)"
   ]
  },
  {
   "cell_type": "code",
   "execution_count": 4,
   "metadata": {
    "id": "JM_cJ0ayVX5M"
   },
   "outputs": [
    {
     "name": "stdout",
     "output_type": "stream",
     "text": [
      "The tensorboard extension is already loaded. To reload it, use:\n",
      "  %reload_ext tensorboard\n"
     ]
    }
   ],
   "source": [
    "%matplotlib inline\n",
    "%load_ext tensorboard\n",
    "\n",
    "import tensorflow as tf\n",
    "import numpy as np\n",
    "import matplotlib.pyplot as plt\n",
    "import shutil\n",
    "\n",
    "try:\n",
    "  shutil.rmtree('logs')\n",
    "except:\n",
    "  pass"
   ]
  },
  {
   "cell_type": "markdown",
   "metadata": {
    "id": "QiIPp2H0VX5N"
   },
   "source": [
    "## Task 2: Create Dataset"
   ]
  },
  {
   "cell_type": "code",
   "execution_count": null,
   "metadata": {
    "id": "QovZqtGiVX5P"
   },
   "outputs": [],
   "source": []
  },
  {
   "cell_type": "code",
   "execution_count": null,
   "metadata": {
    "id": "8RZZS1NoVX5P"
   },
   "outputs": [],
   "source": []
  },
  {
   "cell_type": "code",
   "execution_count": null,
   "metadata": {
    "id": "F5t-OsIpVX5Q"
   },
   "outputs": [],
   "source": []
  },
  {
   "cell_type": "markdown",
   "metadata": {
    "id": "bzzPlFteVX5Q"
   },
   "source": [
    "## Task 3: Dataset Generator"
   ]
  },
  {
   "cell_type": "code",
   "execution_count": null,
   "metadata": {
    "id": "FflkdksnVX5R"
   },
   "outputs": [],
   "source": []
  },
  {
   "cell_type": "markdown",
   "metadata": {
    "id": "yQDBRzzoVX5R"
   },
   "source": [
    "## Task 4: Create Model"
   ]
  },
  {
   "cell_type": "code",
   "execution_count": null,
   "metadata": {
    "id": "TJJ9Bj86VX5R"
   },
   "outputs": [],
   "source": []
  },
  {
   "cell_type": "code",
   "execution_count": null,
   "metadata": {
    "id": "agtm1bq3VX5T"
   },
   "outputs": [],
   "source": []
  },
  {
   "cell_type": "markdown",
   "metadata": {
    "id": "Aa6yAsj-VX5U"
   },
   "source": [
    "## Task 5: Training the Model"
   ]
  },
  {
   "cell_type": "code",
   "execution_count": null,
   "metadata": {
    "id": "hDEFFWKGVX5U"
   },
   "outputs": [],
   "source": [
    "class Logger(tf.keras.callbacks.Callback):\n",
    "  def on_epoch_end(self, epoch, logs=None):\n",
    "    digit_accuracy = logs.get('digit_accuracy')\n",
    "    color_accuracy = logs.get('color_accuracy')\n",
    "    val_digit_accuracy = logs.get('val_digit_accuracy')\n",
    "    val_color_accuracy = logs.get('val_color_accuracy')\n",
    "    print('='*30, epoch + 1, '='*30)\n",
    "    print(f'digit_accuracy: {digit_accuracy:.2f}, color_accuracy: {color_accuracy:.2f}')\n",
    "    print(f'val_digit_accuracy: {val_digit_accuracy:.2f}, val_color_accuracy: {val_color_accuracy:.2f}')"
   ]
  },
  {
   "cell_type": "code",
   "execution_count": null,
   "metadata": {
    "id": "q92Hm71DVX5V"
   },
   "outputs": [],
   "source": []
  },
  {
   "cell_type": "code",
   "execution_count": null,
   "metadata": {
    "id": "Uw2cUj9dVX5V"
   },
   "outputs": [],
   "source": [
    "%tensorboard --logdir logs"
   ]
  },
  {
   "cell_type": "markdown",
   "metadata": {
    "id": "SatoHJXuVX5V"
   },
   "source": [
    "## Task 6: Final Predictions"
   ]
  },
  {
   "cell_type": "code",
   "execution_count": null,
   "metadata": {
    "id": "FB2VxmrpVX5V"
   },
   "outputs": [],
   "source": [
    "def test_model(show=True):\n",
    "  x, [y, c] = next(test)\n",
    "  \n",
    "  preds = model.predict(x)\n",
    "  pred_digit = np.argmax(preds[0])\n",
    "  pred_color = int(preds[1] > 0.5)\n",
    "  gt_digit = int(y[0])\n",
    "  gt_color = int(c[0])\n",
    "  \n",
    "  plt.imshow(x[0])\n",
    "  if show:\n",
    "    print(f'GT: {gt_digit}, {colors[gt_color]}')\n",
    "    print(f'Pr: {pred_digit}, {colors[pred_color]}')\n",
    "    plt.show()\n",
    "  else:\n",
    "    col = 'green' if gt_digit == pred_digit and gt_color == pred_color else 'red'\n",
    "    plt.ylabel(f'GT: {gt_digit}, {colors[gt_color]}', color=col)\n",
    "    plt.xlabel(f'Pr: {pred_digit}, {colors[pred_color]}', color=col)\n",
    "    plt.xticks([])\n",
    "    plt.yticks([])\n",
    "\n",
    "\n",
    "test = generate_data(x_test, y_test, batch_size=1)"
   ]
  },
  {
   "cell_type": "code",
   "execution_count": null,
   "metadata": {
    "id": "TosHWUfsVX5V"
   },
   "outputs": [],
   "source": []
  },
  {
   "cell_type": "code",
   "execution_count": null,
   "metadata": {
    "id": "7EG78TwdVX5W"
   },
   "outputs": [],
   "source": []
  }
 ],
 "metadata": {
  "accelerator": "GPU",
  "colab": {
   "collapsed_sections": [],
   "name": "Creating Multi Task Models With Keras - Starter.ipynb",
   "provenance": []
  },
  "kernelspec": {
   "display_name": "Python 3",
   "language": "python",
   "name": "python3"
  },
  "language_info": {
   "codemirror_mode": {
    "name": "ipython",
    "version": 3
   },
   "file_extension": ".py",
   "mimetype": "text/x-python",
   "name": "python",
   "nbconvert_exporter": "python",
   "pygments_lexer": "ipython3",
   "version": "3.8.11"
  }
 },
 "nbformat": 4,
 "nbformat_minor": 1
}
