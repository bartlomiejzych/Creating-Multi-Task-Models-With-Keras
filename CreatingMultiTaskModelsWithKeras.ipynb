{
 "cells": [
  {
   "cell_type": "markdown",
   "metadata": {
    "id": "jKIdV8hoVX5F"
   },
   "source": [
    "## Task 1: Introduction\n",
    "\n",
    "Starter notebook for the Coursera Guided Project [Creating Multi Task Models With Keras](https://www.coursera.org/projects/multi-task-models-keras)"
   ]
  },
  {
   "cell_type": "code",
   "execution_count": 1,
   "metadata": {
    "id": "JM_cJ0ayVX5M"
   },
   "outputs": [],
   "source": [
    "%matplotlib inline\n",
    "%load_ext tensorboard\n",
    "\n",
    "import tensorflow as tf\n",
    "import numpy as np\n",
    "import matplotlib.pyplot as plt\n",
    "import shutil\n",
    "\n",
    "try:\n",
    "  shutil.rmtree('logs')\n",
    "except:\n",
    "  pass"
   ]
  },
  {
   "cell_type": "markdown",
   "metadata": {
    "id": "QiIPp2H0VX5N"
   },
   "source": [
    "## Task 2: Create Dataset"
   ]
  },
  {
   "cell_type": "code",
   "execution_count": 2,
   "metadata": {
    "id": "QovZqtGiVX5P"
   },
   "outputs": [],
   "source": [
    "(x_train, y_train), (x_test, y_test) = tf.keras.datasets.mnist.load_data()"
   ]
  },
  {
   "cell_type": "code",
   "execution_count": 3,
   "metadata": {
    "id": "8RZZS1NoVX5P"
   },
   "outputs": [],
   "source": [
    "def create_example(x, y):\n",
    "    c = np.random.randint(0, 2)\n",
    "    image = 0.5 * np.random.rand(28, 28, 3)\n",
    "    image[:, :, c] += 0.5 * x / 255.\n",
    "    return  image, y, c"
   ]
  },
  {
   "cell_type": "code",
   "execution_count": 5,
   "metadata": {
    "id": "F5t-OsIpVX5Q"
   },
   "outputs": [
    {
     "name": "stdout",
     "output_type": "stream",
     "text": [
      "digit: 0, color green\n"
     ]
    },
    {
     "data": {
      "image/png": "[encoded data removed]",
      "text/plain": [
       "<Figure size 432x288 with 1 Axes>"
      ]
     },
     "metadata": {
      "needs_background": "light"
     },
     "output_type": "display_data"
    }
   ],
   "source": [
    "colors = {0: 'red', 1: 'green'}\n",
    "\n",
    "x, y, c = create_example(x_train[1], y_train[1])\n",
    "print(f'digit: {y}, color {colors[c]}')\n",
    "\n",
    "plt.imshow(x)\n",
    "plt.show()"
   ]
  },
  {
   "cell_type": "markdown",
   "metadata": {
    "id": "bzzPlFteVX5Q"
   },
   "source": [
    "## Task 3: Dataset Generator"
   ]
  },
  {
   "cell_type": "code",
   "execution_count": 7,
   "metadata": {
    "id": "FflkdksnVX5R"
   },
   "outputs": [],
   "source": [
    "def generate_data(x, y, batch_size=32):\n",
    "    num_examples = len(y)\n",
    "    \n",
    "    while True:\n",
    "        x_batch = np.zeros((batch_size, 28, 28, 3))\n",
    "        y_batch = np.zeros((batch_size,))\n",
    "        c_batch = np.zeros((batch_size,))\n",
    "        \n",
    "        for i in range(0, batch_size):\n",
    "            index = np.random.randint(0, num_examples)\n",
    "            image, digit, color = create_example(x[index], y[index])\n",
    "            x_batch[i] = image\n",
    "            y_batch[i] = digit\n",
    "            c_batch[i] = color\n",
    "        \n",
    "        yield x_batch, [y_batch, c_batch]    \n",
    "        "
   ]
  },
  {
   "cell_type": "code",
   "execution_count": null,
   "metadata": {},
   "outputs": [],
   "source": [
    "x, [y, c] = next(generate_data(x_test, y_test, batch_size=1))"
   ]
  },
  {
   "cell_type": "code",
   "execution_count": 9,
   "metadata": {},
   "outputs": [
    {
     "name": "stdout",
     "output_type": "stream",
     "text": [
      "[3.] [0.]\n"
     ]
    },
    {
     "data": {
      "text/plain": [
       "<matplotlib.image.AxesImage at 0x2086d0cb700>"
      ]
     },
     "execution_count": 9,
     "metadata": {},
     "output_type": "execute_result"
    },
    {
     "data": {
      "image/png": "[encoded data removed]",
      "text/plain": [
       "<Figure size 432x288 with 1 Axes>"
      ]
     },
     "metadata": {
      "needs_background": "light"
     },
     "output_type": "display_data"
    }
   ],
   "source": [
    "print(y, c)\n",
    "plt.imshow(x[0])"
   ]
  },
  {
   "cell_type": "markdown",
   "metadata": {
    "id": "yQDBRzzoVX5R"
   },
   "source": [
    "## Task 4: Create Model"
   ]
  },
  {
   "cell_type": "code",
   "execution_count": 8,
   "metadata": {
    "id": "TJJ9Bj86VX5R"
   },
   "outputs": [],
   "source": []
  },
  {
   "cell_type": "code",
   "execution_count": null,
   "metadata": {
    "id": "agtm1bq3VX5T"
   },
   "outputs": [],
   "source": []
  },
  {
   "cell_type": "markdown",
   "metadata": {
    "id": "Aa6yAsj-VX5U"
   },
   "source": [
    "## Task 5: Training the Model"
   ]
  },
  {
   "cell_type": "code",
   "execution_count": null,
   "metadata": {
    "id": "hDEFFWKGVX5U"
   },
   "outputs": [],
   "source": [
    "class Logger(tf.keras.callbacks.Callback):\n",
    "  def on_epoch_end(self, epoch, logs=None):\n",
    "    digit_accuracy = logs.get('digit_accuracy')\n",
    "    color_accuracy = logs.get('color_accuracy')\n",
    "    val_digit_accuracy = logs.get('val_digit_accuracy')\n",
    "    val_color_accuracy = logs.get('val_color_accuracy')\n",
    "    print('='*30, epoch + 1, '='*30)\n",
    "    print(f'digit_accuracy: {digit_accuracy:.2f}, color_accuracy: {color_accuracy:.2f}')\n",
    "    print(f'val_digit_accuracy: {val_digit_accuracy:.2f}, val_color_accuracy: {val_color_accuracy:.2f}')"
   ]
  },
  {
   "cell_type": "code",
   "execution_count": null,
   "metadata": {
    "id": "q92Hm71DVX5V"
   },
   "outputs": [],
   "source": []
  },
  {
   "cell_type": "code",
   "execution_count": null,
   "metadata": {
    "id": "Uw2cUj9dVX5V"
   },
   "outputs": [],
   "source": [
    "%tensorboard --logdir logs"
   ]
  },
  {
   "cell_type": "markdown",
   "metadata": {
    "id": "SatoHJXuVX5V"
   },
   "source": [
    "## Task 6: Final Predictions"
   ]
  },
  {
   "cell_type": "code",
   "execution_count": null,
   "metadata": {
    "id": "FB2VxmrpVX5V"
   },
   "outputs": [],
   "source": [
    "def test_model(show=True):\n",
    "  x, [y, c] = next(test)\n",
    "  \n",
    "  preds = model.predict(x)\n",
    "  pred_digit = np.argmax(preds[0])\n",
    "  pred_color = int(preds[1] > 0.5)\n",
    "  gt_digit = int(y[0])\n",
    "  gt_color = int(c[0])\n",
    "  \n",
    "  plt.imshow(x[0])\n",
    "  if show:\n",
    "    print(f'GT: {gt_digit}, {colors[gt_color]}')\n",
    "    print(f'Pr: {pred_digit}, {colors[pred_color]}')\n",
    "    plt.show()\n",
    "  else:\n",
    "    col = 'green' if gt_digit == pred_digit and gt_color == pred_color else 'red'\n",
    "    plt.ylabel(f'GT: {gt_digit}, {colors[gt_color]}', color=col)\n",
    "    plt.xlabel(f'Pr: {pred_digit}, {colors[pred_color]}', color=col)\n",
    "    plt.xticks([])\n",
    "    plt.yticks([])\n",
    "\n",
    "\n",
    "test = generate_data(x_test, y_test, batch_size=1)"
   ]
  },
  {
   "cell_type": "code",
   "execution_count": null,
   "metadata": {
    "id": "TosHWUfsVX5V"
   },
   "outputs": [],
   "source": []
  },
  {
   "cell_type": "code",
   "execution_count": null,
   "metadata": {
    "id": "7EG78TwdVX5W"
   },
   "outputs": [],
   "source": []
  }
 ],
 "metadata": {
  "accelerator": "GPU",
  "colab": {
   "collapsed_sections": [],
   "name": "Creating Multi Task Models With Keras - Starter.ipynb",
   "provenance": []
  },
  "kernelspec": {
   "display_name": "Python 3",
   "language": "python",
   "name": "python3"
  },
  "language_info": {
   "codemirror_mode": {
    "name": "ipython",
    "version": 3
   },
   "file_extension": ".py",
   "mimetype": "text/x-python",
   "name": "python",
   "nbconvert_exporter": "python",
   "pygments_lexer": "ipython3",
   "version": "3.8.11"
  }
 },
 "nbformat": 4,
 "nbformat_minor": 1
}
